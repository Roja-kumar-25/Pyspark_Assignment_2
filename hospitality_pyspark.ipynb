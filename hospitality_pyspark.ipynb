{
 "cells": [
  {
   "cell_type": "code",
   "execution_count": 1,
   "metadata": {},
   "outputs": [],
   "source": [
    "from pyspark.sql import SparkSession\n",
    "import pyspark.sql.functions as F"
   ]
  },
  {
   "cell_type": "code",
   "execution_count": 2,
   "metadata": {},
   "outputs": [
    {
     "name": "stderr",
     "output_type": "stream",
     "text": [
      "24/10/09 13:52:20 WARN Utils: Your hostname, AI-CJB-LAP-459 resolves to a loopback address: 127.0.1.1; using 192.168.1.164 instead (on interface wlp0s20f3)\n",
      "24/10/09 13:52:20 WARN Utils: Set SPARK_LOCAL_IP if you need to bind to another address\n",
      "Setting default log level to \"WARN\".\n",
      "To adjust logging level use sc.setLogLevel(newLevel). For SparkR, use setLogLevel(newLevel).\n",
      "24/10/09 13:52:20 WARN NativeCodeLoader: Unable to load native-hadoop library for your platform... using builtin-java classes where applicable\n"
     ]
    }
   ],
   "source": [
    "spark=SparkSession.builder.master(\"local[1]\").appName(\"ireland_hostipality_details.com\").getOrCreate()"
   ]
  },
  {
   "cell_type": "code",
   "execution_count": 3,
   "metadata": {},
   "outputs": [],
   "source": [
    "hotel_details=spark.read.parquet(\"/home/ai/Documents/my files/assignment_2/Pyspark_Assignment_2/raw_data_in/hotelsourcesdetails.parquet\")\n",
    "hotel_rates=spark.read.parquet(\"/home/ai/Documents/my files/assignment_2/Pyspark_Assignment_2/raw_data_in/hospitality_raw_rates_20240922_123949.parquet\")"
   ]
  },
  {
   "cell_type": "code",
   "execution_count": 4,
   "metadata": {},
   "outputs": [],
   "source": [
    "# Alias the DataFrames\n",
    "hd = hotel_details.alias(\"hd\")\n",
    "hr = hotel_rates.alias(\"hr\")"
   ]
  },
  {
   "cell_type": "code",
   "execution_count": 5,
   "metadata": {},
   "outputs": [],
   "source": [
    "hd=hd.withColumnRenamed(\"hotelid\", \"hd_hotelid\")\n",
    "hd=hd.withColumnRenamed(\"websitecode\",\"hd_websitecode\")"
   ]
  },
  {
   "cell_type": "code",
   "execution_count": 6,
   "metadata": {},
   "outputs": [],
   "source": [
    "# Filter and merge data\n",
    "irl_hd = hd.filter(hd.countrycode == \"IRL\")\n",
    "# irl_hd = hd.withColumnRenamed(\"hotelid\", \"hd_hotelid\")\n",
    "irl_hd = irl_hd.withColumnRenamed(\"id\", \"hd_id\")#column renamed to avoid the ambiguity\n",
    "# irl_hd = hd.withColumnRenamed(\"hotelid\", \"hd_hotelid\")\n",
    "ireland_df = irl_hd.join(hr, irl_hd[\"hd_id\"] == hr[\"id\"], \"inner\")"
   ]
  },
  {
   "cell_type": "code",
   "execution_count": 7,
   "metadata": {},
   "outputs": [
    {
     "name": "stderr",
     "output_type": "stream",
     "text": [
      "24/10/09 13:52:23 WARN SparkStringUtils: Truncated the string representation of a plan since it was too large. This behavior can be adjusted by setting 'spark.sql.debug.maxToStringFields'.\n",
      "                                                                                \r"
     ]
    },
    {
     "name": "stdout",
     "output_type": "stream",
     "text": [
      "+-----+---------+----------+--------------+--------------------+--------------------+--------+--------+-----------+----+-----------+-----------+------+---------------+------+----------+------------+-----------+-------------------+---+------+--------------------+----------+-------+--------+--------------------+--------------------+--------------------+--------------------+---------+-------+------+----------+----------+--------+---------+----------+---------+--------------------+---------+---+--------------------+-------------+--------------------+--------------+-------+-----+-------+--------+-------+\n",
      "|hd_id|hotelcode|hd_hotelid|hd_websitecode|           hotelname|             address|    city|   state|countrycode| zip|        lat|        lng|status|   propertytype|rating|larbarterm|reviewscount|websitecode|        dtcollected|los|guests|            roomtype|onsiterate|netrate|currency|     roomdescription|            rateplan|           sourceurl|       roomamenities|occupancy|ispromo|closed|   checkin|  checkout|discount|promoname|statuscode|taxstatus|             taxtype|taxamount|pos|           proxyused|israteperstay|            mealplan|optionalextras|payplan|   id|  refid| hotelid|minstay|\n",
      "+-----+---------+----------+--------------+--------------------+--------------------+--------+--------+-----------+----+-----------+-----------+------+---------------+------+----------+------------+-----------+-------------------+---+------+--------------------+----------+-------+--------+--------------------+--------------------+--------------------+--------------------+---------+-------+------+----------+----------+--------+---------+----------+---------+--------------------+---------+---+--------------------+-------------+--------------------+--------------+-------+-----+-------+--------+-------+\n",
      "|11662|   218155|   1098350|          3661|      The Pier Hotel|    Sarsfield Street|Limerick| Munster|        IRL|NULL|    52.6646|   -8.62901|     1|          Hotel|   3.0|      NULL|        NULL|          2|2024-09-22 18:20:59|  1|     1|  Two-Bedroom Chalet|      89.0|   NULL|     USD|Bedroom 1: 4 twin...|Free cancellation...|https://www.booki...|Entire chalet, Pr...|        4|      N|     N|2024-10-13|2024-10-14|    NULL|      nan|       200|       -1|Includes taxes an...|     NULL|  0|brd-customer-hl_6...|            Y|                 nan|          NULL|   NULL|11662|3074898|11477214|      1|\n",
      "|25582|   950215|  15134403|            34|Augusta Bed & Bre...|Finner Road, Co. ...|Bundoran|  Ulster|        IRL|NULL|    54.4836|   -8.26362|     1|Bed & Breakfast|   3.0|      NULL|        NULL|          2|2024-09-22 18:22:11|  1|     1| Comfort Double Room|     104.0|   NULL|     USD|1 queen bed   Siz...|                   •|https://www.booki...|Garden view, Rive...|        2|      N|     N|2024-10-13|2024-10-14|    NULL|      nan|       200|       -1|Includes taxes an...|     NULL|  0|brd-customer-hl_6...|            Y|Very good breakfa...|          NULL|   NULL|25582|2602539|  327722|      1|\n",
      "|25649|   951591|  12815776|            35|Robin Hill House B&B|           Lake Road|    Cobh| Munster|        IRL|NULL|51.84829628|-8.31149536|     1|Bed & Breakfast|   4.0|      NULL|        NULL|          2|2024-09-22 18:22:11|  1|     1|    Deluxe Twin Room|      41.0|   NULL|     USD|2 queen beds  Fea...|•Partially refund...|https://www.booki...|Attached bathroom...|        1|      N|     N|2024-10-13|2024-10-14|    NULL|      nan|       200|       -1|  +$5 taxes and fees|     NULL|  0|brd-customer-hl_6...|            Y|Exceptional break...|          NULL|   NULL|25649|2659398| 9674800|      1|\n",
      "|33046|  1383663|    964977|           116|     Adare House B&B|20 Pembroke Park,...|  Dublin|Leinster|        IRL|NULL|    53.3264|   -6.23958|     1|Bed & Breakfast|   3.0|      NULL|        NULL|          2|2024-09-22 18:22:45|  1|     1|Three-Bedroom Apa...|      85.0|   NULL|     USD|Bedroom 1: 1 full...|Free cancellation...|https://www.booki...|Private kitchen, ...|        3|      N|     N|2024-10-13|2024-10-14|    NULL|      nan|       200|       -1|  +$8 taxes and fees|     NULL|  0|brd-customer-hl_6...|            Y|                 nan|          NULL|   NULL|33046| 782961|12404064|      1|\n",
      "|56902|  3046231|    223260|           116|Hotel Mount Wolseley|Tullow Hill, Carl...|  Carlow|    NULL|        IRL|NULL|    52.8019|   -6.71361|     1|          Hotel|   5.0|      NULL|        NULL|          2|2024-09-22 18:24:25|  1|     1|                NULL|      NULL|   NULL|     USD|                 nan|                 nan|https://www.booki...|                 nan|        1|      N|     Y|2024-10-13|2024-10-14|    NULL|      nan|       202|       -1|                 nan|     NULL|  0|brd-customer-hl_6...|          nan|                 nan|          NULL|   NULL|56902|1858999|12412190|   NULL|\n",
      "+-----+---------+----------+--------------+--------------------+--------------------+--------+--------+-----------+----+-----------+-----------+------+---------------+------+----------+------------+-----------+-------------------+---+------+--------------------+----------+-------+--------+--------------------+--------------------+--------------------+--------------------+---------+-------+------+----------+----------+--------+---------+----------+---------+--------------------+---------+---+--------------------+-------------+--------------------+--------------+-------+-----+-------+--------+-------+\n",
      "only showing top 5 rows\n",
      "\n"
     ]
    }
   ],
   "source": [
    "ireland_df.show(5)"
   ]
  },
  {
   "cell_type": "code",
   "execution_count": 8,
   "metadata": {},
   "outputs": [
    {
     "name": "stderr",
     "output_type": "stream",
     "text": [
      "                                                                                \r"
     ]
    },
    {
     "name": "stdout",
     "output_type": "stream",
     "text": [
      "Shape of the dataset: 31165\n"
     ]
    },
    {
     "name": "stderr",
     "output_type": "stream",
     "text": [
      "[Stage 24:>                                                         (0 + 1) / 1]\r"
     ]
    },
    {
     "name": "stdout",
     "output_type": "stream",
     "text": [
      "+-------+------------------+------------------+--------------------+------------------+--------------------+------------+--------+--------------------+-----------+-----------------+------------------+------------------+------------------+------------+------------------+----------+------------------+-----------+-----+------+--------------------+------------------+------------------+--------+---------------+--------------------+--------------------+--------------------+------------------+-------+------+----------+----------+------------------+---------+------------------+-------------------+------------------+------------------+-----+--------------------+-------------+-------------+--------------+-------+------------------+------------------+------------------+-------+\n",
      "|summary|             hd_id|         hotelcode|          hd_hotelid|    hd_websitecode|           hotelname|     address|    city|               state|countrycode|              zip|               lat|               lng|            status|propertytype|            rating|larbarterm|      reviewscount|websitecode|  los|guests|            roomtype|        onsiterate|           netrate|currency|roomdescription|            rateplan|           sourceurl|       roomamenities|         occupancy|ispromo|closed|   checkin|  checkout|          discount|promoname|        statuscode|          taxstatus|           taxtype|         taxamount|  pos|           proxyused|israteperstay|     mealplan|optionalextras|payplan|                id|             refid|           hotelid|minstay|\n",
      "+-------+------------------+------------------+--------------------+------------------+--------------------+------------+--------+--------------------+-----------+-----------------+------------------+------------------+------------------+------------+------------------+----------+------------------+-----------+-----+------+--------------------+------------------+------------------+--------+---------------+--------------------+--------------------+--------------------+------------------+-------+------+----------+----------+------------------+---------+------------------+-------------------+------------------+------------------+-----+--------------------+-------------+-------------+--------------+-------+------------------+------------------+------------------+-------+\n",
      "|  count|             31165|             31165|               31165|             31165|               31165|       31116|   31161|               30527|      31165|              343|             31165|             31165|             31165|       31165|             31117|         0|               157|      31165|31165| 31165|               26362|             26362|              4316|   31165|          31165|               31165|               31165|               31165|             31165|  31165| 31165|     31165|     31165|              4316|    31165|             31165|              31165|             31165|                24|31165|               31165|        31165|        31165|             0|      0|             31165|             31165|             31165|  26362|\n",
      "|   mean|4157940.9540510187| 1579156.310925718|9.999158101005936E15| 935.9449703192685|                NULL|        NULL|    NULL|                NULL|       NULL|6292.923076923077| 53.11614067937414|-7.237807307493476|0.7882239691962137|        NULL|2.6095381945560305|      NULL| 581.6496815286624|        2.0|  1.0|   1.0|                NULL|181.91927774827403|185.32715477293792|    NULL|            NaN|                 NaN|                NULL|                 NaN|  2.58087598267287|   NULL|  NULL|      NULL|      NULL|  20.1774235403151|      NaN| 200.3082303866517|-0.9092250922509225|               NaN|15.357083333333335|  0.0|                NULL|          NaN|          NaN|          NULL|   NULL|4157940.9540510187|1442734.7259104764|5898247.8714583665|    1.0|\n",
      "| stddev|2423785.9541809917|1348267.0989012746|2.170367841958959...|1545.9534552787602|                NULL|        NULL|    NULL|                NULL|       NULL|22669.03316002375|1.4050952274815194| 4.209027520664981|0.4085734939809431|        NULL|1.5878158522353405|      NULL|1552.0941307127111|        0.0|  0.0|   0.0|                NULL|470.36199099507985|271.06665236598906|    NULL|            NaN|                 NaN|                NULL|                 NaN|2.0916569858373135|   NULL|  NULL|      NULL|      NULL|13.419835482166999|      NaN|0.7221298599626812| 0.5335670590533098|               NaN|18.384991156343823|  0.0|                NULL|          NaN|          NaN|          NULL|   NULL|2423785.9541809917| 959569.3118822252| 4727070.687395587|    0.0|\n",
      "|    min|               572|               321|                   0|                 1|#2 TGHA Luxury St...| 157 Enighed|Aasleagh| Province of Munster|        IRL|          P72XV48|        -33.963164|       -124.012026|                 0|   APARTMENT|               0.0|      NULL|               0.0|          2|    1|     1|\"Berlin- Mitte\" a...|               3.0|               4.0|     USD|     1 bunk bed|Free cancellation...|https://www.booki...|1 room, Air condi...|                 1|      N|     N|2024-10-13|2024-10-14|              0.89|  10% off|               200|                 -1|+$0 taxes and fees|              0.41|    0|brd-customer-hl_6...|            Y|All-Inclusive|          NULL|   NULL|               572|               232|          10001626|      1|\n",
      "|    25%|           2068724|            458435|           1190182.0|                 2|                NULL|        NULL|    NULL|                NULL|       NULL|              0.0|           52.3497|          -9.29543|                 1|        NULL|               2.0|      NULL|               0.0|          2|    1|     1|                NULL|              71.0|              69.0|    NULL|            NaN|                 NaN|                NULL|                 NaN|                 1|   NULL|  NULL|      NULL|      NULL|             10.02|      NaN|               200|                 -1|               NaN|              5.75|    0|                NULL|          NaN|          NaN|          NULL|   NULL|           2068724|            540075|          618081.0|      1|\n",
      "+-------+------------------+------------------+--------------------+------------------+--------------------+------------+--------+--------------------+-----------+-----------------+------------------+------------------+------------------+------------+------------------+----------+------------------+-----------+-----+------+--------------------+------------------+------------------+--------+---------------+--------------------+--------------------+--------------------+------------------+-------+------+----------+----------+------------------+---------+------------------+-------------------+------------------+------------------+-----+--------------------+-------------+-------------+--------------+-------+------------------+------------------+------------------+-------+\n",
      "only showing top 5 rows\n",
      "\n"
     ]
    },
    {
     "name": "stderr",
     "output_type": "stream",
     "text": [
      "                                                                                \r"
     ]
    }
   ],
   "source": [
    "# Print dataset shape and summary statistics\n",
    "print(\"Shape of the dataset:\", ireland_df.count())\n",
    "ireland_df.summary().show(5)\n",
    "# ireland_df.select(hd.id,).describe().show()"
   ]
  },
  {
   "cell_type": "code",
   "execution_count": null,
   "metadata": {},
   "outputs": [],
   "source": []
  }
 ],
 "metadata": {
  "kernelspec": {
   "display_name": "Python 3",
   "language": "python",
   "name": "python3"
  },
  "language_info": {
   "codemirror_mode": {
    "name": "ipython",
    "version": 3
   },
   "file_extension": ".py",
   "mimetype": "text/x-python",
   "name": "python",
   "nbconvert_exporter": "python",
   "pygments_lexer": "ipython3",
   "version": "3.10.12"
  }
 },
 "nbformat": 4,
 "nbformat_minor": 2
}
